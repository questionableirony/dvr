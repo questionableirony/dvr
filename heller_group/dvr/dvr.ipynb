{
 "metadata": {
  "name": "dvr"
 },
 "nbformat": 3,
 "nbformat_minor": 0,
 "worksheets": [
  {
   "cells": [
    {
     "cell_type": "code",
     "collapsed": false,
     "input": [
      "import numpy as np\n",
      "import math, cmath\n",
      "import matplotlib.pyplot as plt\n",
      "import time\n",
      "from scipy import linalg as sclinalg"
     ],
     "language": "python",
     "metadata": {},
     "outputs": [],
     "prompt_number": 1
    },
    {
     "cell_type": "code",
     "collapsed": false,
     "input": [
      "N = 100\n",
      "\n",
      "X = np.zeros((N,N))\n",
      "\n",
      "# Hermite polynomial                                                                                                                                  \n",
      "X[0,1] = np.sqrt(0.5)\n",
      "X[N-1,N-2] = np.sqrt(0.5*float(N-1))\n",
      "for i in range(1,N-1):\n",
      "    X[i,i+1] = np.sqrt(0.5*float(i+1))\n",
      "    X[i,i-1] = np.sqrt(0.5*float(i))"
     ],
     "language": "python",
     "metadata": {},
     "outputs": [],
     "prompt_number": 2
    },
    {
     "cell_type": "code",
     "collapsed": false,
     "input": [
      "x, U = np.linalg.eig(X)\n",
      "Ucc = np.transpose(np.conjugate(U))\n",
      "# note the x ostensibly covers -inf to inf                                                                                                            \n",
      "# check: np.linalg.inv(U) - np.transpose(np.conjugate(U))   # should be zero                                                                          \n",
      "#print np.dot(np.transpose(np.conjugate(U)),np.dot(X,U))                                                                                              \n",
      "#print x "
     ],
     "language": "python",
     "metadata": {},
     "outputs": [],
     "prompt_number": 3
    },
    {
     "cell_type": "code",
     "collapsed": false,
     "input": [
      "hbar = 1\n",
      "mass = 1\n",
      "omega = 1\n",
      "VDVR = np.diag(0.5*mass*omega**2*x**2)"
     ],
     "language": "python",
     "metadata": {},
     "outputs": [],
     "prompt_number": 4
    },
    {
     "cell_type": "code",
     "collapsed": false,
     "input": [
      "Tphi = np.zeros((N,N))\n",
      "Tphi[0,0] = -0.5*hbar**2/mass * -0.5\n",
      "Tphi[0,2] = -0.5*hbar**2/mass * 0.5*np.sqrt(2.0)\n",
      "Tphi[1,1] = -0.5*hbar**2/mass * -1.5\n",
      "Tphi[1,3] = -0.5*hbar**2/mass * 0.5*np.sqrt(3.0*2.0)\n",
      "Tphi[N-2,N-2] = -0.5*hbar**2/mass * -(float(N-2)+0.5)\n",
      "Tphi[N-2,N-4] = -0.5*hbar**2/mass * 0.5*np.sqrt(float(N-2)*float(N-3))\n",
      "Tphi[N-1,N-1] = -0.5*hbar**2/mass * -(float(N-1)+0.5)\n",
      "Tphi[N-1,N-3] = -0.5*hbar**2/mass * 0.5*np.sqrt(float(N-1)*float(N-3))\n",
      "for i in range(2,N-2):\n",
      "    Tphi[i,i] = -0.5*hbar**2/mass * -(float(i)+0.5)\n",
      "    Tphi[i,i+2] = -0.5*hbar**2/mass * 0.5*np.sqrt(float(i+2)*float(i+1))\n",
      "    Tphi[i,i-2] = -0.5*hbar**2/mass * 0.5*np.sqrt(float(i)*float(i-1))\n",
      "# Tphi appears to be tridiagonalish"
     ],
     "language": "python",
     "metadata": {},
     "outputs": [],
     "prompt_number": 5
    },
    {
     "cell_type": "code",
     "collapsed": false,
     "input": [
      "TDVR = np.dot(Ucc,np.dot(Tphi,U))\n",
      "\n",
      "HDVR = TDVR + VDVR"
     ],
     "language": "python",
     "metadata": {},
     "outputs": [],
     "prompt_number": 6
    },
    {
     "cell_type": "code",
     "collapsed": false,
     "input": [
      "E, eigstates = np.linalg.eig(HDVR)\n",
      "\n",
      "print np.sort(E)\n",
      "\n",
      "print hbar*omega*(np.array(range(N))+0.5)"
     ],
     "language": "python",
     "metadata": {},
     "outputs": []
    },
    {
     "cell_type": "code",
     "collapsed": false,
     "input": [
      "alpha = 1.0\n",
      "xbeta = 0.0\n",
      "pbeta = 0.0\n",
      "Phi = (np.pi/2.0/alpha)**0.25*np.exp(-alpha*(x-xbeta)**2+1j*pbeta*(x-xbeta)/hbar)\n",
      "\n",
      "xsorted = np.sort(x)\n",
      "xmin = -3\n",
      "xmax = 3\n",
      "xminindex = np.where(xsorted>xmin)[0][0]\n",
      "xmaxindex = np.where(xsorted>xmax)[0][0]\n",
      "\n",
      "p = x.argsort()"
     ],
     "language": "python",
     "metadata": {},
     "outputs": [],
     "prompt_number": 7
    },
    {
     "cell_type": "code",
     "collapsed": false,
     "input": [
      "fig = plt.figure(1)\n",
      "plt.cla()\n",
      "plt.ion()\n",
      "plt.plot(xsorted[xminindex:xmaxindex],np.real(Phi[p])[xminindex:xmaxindex], 'b-')\n",
      "plt.draw()\n",
      "\n",
      "dt = 1.0/float(N*10)\n",
      "timesteps = 100\n",
      "\n",
      "for i in range(timesteps):\n",
      "    plt.cla()\n",
      "    Phi = np.dot(U,np.dot(sclinalg.expm2(-1j*HDVR*dt/hbar),np.dot(Ucc,Phi)))\n",
      "    plt.plot(xsorted[xminindex:xmaxindex],np.real(Phi[p])[xminindex:xmaxindex], 'b-')\n",
      "    plt.draw()\n",
      "\n",
      "plt.show()"
     ],
     "language": "python",
     "metadata": {},
     "outputs": [],
     "prompt_number": 9
    },
    {
     "cell_type": "code",
     "collapsed": false,
     "input": [],
     "language": "python",
     "metadata": {},
     "outputs": []
    }
   ],
   "metadata": {}
  }
 ]
}